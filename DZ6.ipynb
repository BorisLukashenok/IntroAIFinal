{
 "cells": [
  {
   "cell_type": "code",
   "execution_count": 1,
   "metadata": {},
   "outputs": [],
   "source": [
    "# Основной пакет\n",
    "# pip install qiskit\n",
    "# Дополнительный пакет для графического представления результатов работы. Например в NoteBook\n",
    "# pip install qiskit[visualization]"
   ]
  },
  {
   "attachments": {},
   "cell_type": "markdown",
   "metadata": {},
   "source": [
    "> `Библиотеки лучше ставить на чистую виртульную среду т.к. они подгружают около 30 дополнительных библиотек релевантных версий, для корректной работы`"
   ]
  },
  {
   "attachments": {},
   "cell_type": "markdown",
   "metadata": {},
   "source": [
    "# Попробуем разобратся, что такое квантовое программирование\n"
   ]
  },
  {
   "attachments": {},
   "cell_type": "markdown",
   "metadata": {},
   "source": [
    "## <span id=\"teg1\">1. [Немного теории](#sod)</span>\n",
    "\n",
    "### <span id=\"teg11\">[Что такое кубит?](#sod)</span>\n",
    "\n",
    "> Как и бит, кубит допускает два собственных состояния, обозначаемых $|0\\rangle$ и $|1\\rangle$  (обозначения Дирака), но при этом может находиться и в их суперпозиции. В общем случае его волновая функция имеет вид ${\\displaystyle \\alpha|0\\rangle +\\beta|1\\rangle }$, где $\\alpha$ и $\\beta$ называются амплитудами вероятностей и являются комплексными числами, удовлетворяющими условию $|\\alpha|^{2}+|\\beta|^{2}=1$. Состояние кубита удобно представлять как стрелку на сфере Блоха.  \n",
    "\n",
    "![Блок сфера](Bloch_Sphere2.jpg \"Блок сфера\")\n",
    "\n",
    ">При измерении состояния кубита можно получить лишь одно из его собственных состояний. Вероятности получить каждое из них равны соответственно $|\\alpha|^{2}$ и $|\\beta|^{2}$. Как правило, при измерении состояние кубита необратимо разрушается, чего не происходит при измерении классического бита.  \n",
    "\n",
    "<font color=\"#00bfff\">Простыми словами, как я понимаю: </font>  \n",
    "\n",
    "> Кубит q — это сумма двух векторов $\\alpha$ и $\\beta$, где $\\alpha$ и $\\beta$ — комплексные числa, но не совсем любые, а чтобы сумма модулей их квадратов была равна единице.\n",
    "$$q=\\alpha|0\\rangle +\\beta|1\\rangle$$\n",
    "$$\\alpha,\\beta\\in\\mathbb{C}$$\n",
    "$$|\\alpha|^{2}+|\\beta|^{2}=1$$\n"
   ]
  },
  {
   "attachments": {},
   "cell_type": "markdown",
   "metadata": {},
   "source": [
    "### <span id=\"teg12\">[Что с ним можно делать?](#sod)</span>\n",
    "\n",
    "#### $\\color{green}Измерить$\n",
    "\n",
    "Первое, что мы привыкли делать, — попробовать посчитать значение нашей переменной. Мы хотим прочитать, в каком состоянии находится кубит.\n",
    "```python\n",
    "print(q)\n",
    "```  \n",
    "Но это не сработает. Мы никогда не узнаем точные значение α и β. Если мы попробуем посмотреть на кубит, прочитать, то мы получим или нолик, или единичку с соответствующими вероятностями.  \n",
    "\n",
    "#### $\\color{green}Скопировать$\n",
    "\n",
    "```python\n",
    "p = q\n",
    "```\n",
    "Операции присваивания нет, и это связано с тем, что мы даже не сможем посмотреть точное значение. Даже [теорема о запрете клонирования](https://ru.wikipedia.org/wiki/%D0%A2%D0%B5%D0%BE%D1%80%D0%B5%D0%BC%D0%B0_%D0%BE_%D0%B7%D0%B0%D0%BF%D1%80%D0%B5%D1%82%D0%B5_%D0%BA%D0%BB%D0%BE%D0%BD%D0%B8%D1%80%D0%BE%D0%B2%D0%B0%D0%BD%D0%B8%D1%8F) есть."
   ]
  },
  {
   "attachments": {},
   "cell_type": "markdown",
   "metadata": {},
   "source": [
    "\n",
    "\n",
    "### <span id=\"teg13\">[Есть кубит, который мы не можем прочитать, не можем склонировать. Что можно вообще делать?](#sod)</span>"
   ]
  },
  {
   "attachments": {},
   "cell_type": "markdown",
   "metadata": {},
   "source": [
    "Кубит — это вектор. Вектор можно взять и покрутить по сфере вокруг. Чтобы покрутить, можно придумать матрицу, которая это вращение делает. Все операции над кубитами — это матрицы. Они называются унитарными.  \n",
    "Унитарные — это  очень важное свойство, оно означает, что для любой операции есть обратная. То есть как бы мы ни покрутили вектор, мы всегда можем его вернуть в прежнее положение. Всегда существует обратная операция."
   ]
  },
  {
   "attachments": {},
   "cell_type": "markdown",
   "metadata": {},
   "source": [
    "## <span id=\"teg2\">2. [Наконец-то практика](#sod)</span>"
   ]
  },
  {
   "attachments": {},
   "cell_type": "markdown",
   "metadata": {},
   "source": [
    "Главное, что я вынес из теоретической части, это то что с кубитом можно проводить некие операции, нфзываемые операторами или вентилями(от gate) и получать результаты в виде: вероятно 1 или вероятно 0.  \n",
    "Создадим среду для работы:  \n",
    "  \n",
    "$\\color{green}Импорт\\spaceпакетов$ "
   ]
  },
  {
   "cell_type": "code",
   "execution_count": 2,
   "metadata": {},
   "outputs": [],
   "source": [
    "from qiskit import QuantumCircuit, transpile, QuantumRegister, ClassicalRegister, execute\n",
    "from qiskit_aer import AerSimulator\n",
    "from qiskit.visualization import plot_histogram"
   ]
  },
  {
   "attachments": {},
   "cell_type": "markdown",
   "metadata": {},
   "source": [
    "\n",
    "### <span id=\"teg21\">[Операторы](#sod)</span>\n",
    "\n",
    "$\\color{green}Оператор\\space NOT$\n",
    "\n",
    "У оператора отрицания есть стандартная запись, оператор X. Если подумать, это просто вращение вокруг одной из осей. И есть операторы Y и Z, вращение вокруг других осей, но это сейчас не так важно."
   ]
  },
  {
   "cell_type": "code",
   "execution_count": 3,
   "metadata": {},
   "outputs": [
    {
     "name": "stdout",
     "output_type": "stream",
     "text": [
      "{'0': 1000}\n"
     ]
    },
    {
     "data": {
      "image/png": "[encoded data removed]",
      "text/plain": [
       "<Figure size 203.481x200.667 with 1 Axes>"
      ]
     },
     "execution_count": 3,
     "metadata": {},
     "output_type": "execute_result"
    }
   ],
   "source": [
    "# Высокопроизводительный симулятор имитирующий настоящее квантовое устройство\n",
    "simulator = AerSimulator()\n",
    "# Инициализируем 1 кубит в 0м состоянии\n",
    "q = QuantumRegister(1)\n",
    "# Классический бит, куда отражается состояние кубита\n",
    "c = ClassicalRegister(1)\n",
    "# Создаем квантовую схему, связываем кубит с битом\n",
    "# Результат измерения i-го кубита будет храниться в i-м классическом бите\n",
    "circuit = QuantumCircuit(q, c)\n",
    "# Измерение\n",
    "circuit.measure(q, c)\n",
    "# Компилируем схему, применяя к ней базовый набор операторов\n",
    "compiled_circuit = transpile(circuit, simulator)\n",
    "# Делаем 1000 замеров\n",
    "job = simulator.run(compiled_circuit, shots=1000)\n",
    "res = job.result()\n",
    "print(res.get_counts(compiled_circuit))\n",
    "circuit.draw(\"mpl\")"
   ]
  },
  {
   "attachments": {},
   "cell_type": "markdown",
   "metadata": {},
   "source": [
    "Естесвенно получили 0. Ведь инициализировали его в 0 состояние.  \n",
    "Применим оператор NOT"
   ]
  },
  {
   "cell_type": "code",
   "execution_count": 4,
   "metadata": {},
   "outputs": [
    {
     "name": "stdout",
     "output_type": "stream",
     "text": [
      "{'1': 1000}\n"
     ]
    },
    {
     "data": {
      "image/png": "[encoded data removed]",
      "text/plain": [
       "<Figure size 370.704x200.667 with 1 Axes>"
      ]
     },
     "execution_count": 4,
     "metadata": {},
     "output_type": "execute_result"
    }
   ],
   "source": [
    "circuit.x(0)\n",
    "circuit.measure(q, c)\n",
    "compiled_circuit = transpile(circuit, simulator)\n",
    "job = simulator.run(compiled_circuit, shots=1000)\n",
    "res = job.result()\n",
    "print(res.get_counts(compiled_circuit))\n",
    "circuit.draw(\"mpl\")"
   ]
  },
  {
   "attachments": {},
   "cell_type": "markdown",
   "metadata": {},
   "source": [
    "Теперь с вероятностью единичка получим единичку, как и планировали. Работает, ура я квантовый программист!  \n",
    "\n",
    "$\\color{green}Оператор\\space Адамара$ \n",
    "\n",
    "Этот оператор ставит кубит в интересную суперпозицию. Если ее измерить, то с вероятностью 50% получим или нолик, или единичку. То есть это будет такая равномерная суперпозиция, можем получить что угодно.\n",
    "\n",
    "Можно провести аналогию, что это такое квантовое подбрасывание монетки.  \n",
    "Обозначается как оператор H. "
   ]
  },
  {
   "cell_type": "code",
   "execution_count": 5,
   "metadata": {},
   "outputs": [
    {
     "name": "stdout",
     "output_type": "stream",
     "text": [
      "{'1': 522, '0': 478}\n"
     ]
    },
    {
     "data": {
      "image/png": "[encoded data removed]",
      "text/plain": [
       "<Figure size 537.926x200.667 with 1 Axes>"
      ]
     },
     "metadata": {},
     "output_type": "display_data"
    },
    {
     "data": {
      "image/png": "[encoded data removed]",
      "text/plain": [
       "<Figure size 700x500 with 1 Axes>"
      ]
     },
     "execution_count": 5,
     "metadata": {},
     "output_type": "execute_result"
    }
   ],
   "source": [
    "circuit.h(0)\n",
    "circuit.measure(q, c)\n",
    "compiled_circuit = transpile(circuit, simulator)\n",
    "job = simulator.run(compiled_circuit, shots=1000)\n",
    "res = job.result()\n",
    "print(res.get_counts(compiled_circuit))\n",
    "display(circuit.draw(\"mpl\"))\n",
    "plot_histogram(res.get_counts(compiled_circuit))"
   ]
  },
  {
   "attachments": {},
   "cell_type": "markdown",
   "metadata": {},
   "source": [
    "Замерим и получим примерно то, что ожидаем. Примерно с вероятностью 50%, нолик и единичка. Чуть больше, чуть меньше, но так уж получается.  \n",
    "Бросим еще раз.\n"
   ]
  },
  {
   "cell_type": "code",
   "execution_count": 6,
   "metadata": {},
   "outputs": [
    {
     "name": "stdout",
     "output_type": "stream",
     "text": [
      "{'0': 521, '1': 479}\n"
     ]
    },
    {
     "data": {
      "image/png": "[encoded data removed]",
      "text/plain": [
       "<Figure size 705.148x200.667 with 1 Axes>"
      ]
     },
     "metadata": {},
     "output_type": "display_data"
    },
    {
     "data": {
      "image/png": "[encoded data removed]",
      "text/plain": [
       "<Figure size 700x500 with 1 Axes>"
      ]
     },
     "execution_count": 6,
     "metadata": {},
     "output_type": "execute_result"
    }
   ],
   "source": [
    "circuit.h(0)\n",
    "circuit.measure(q, c)\n",
    "compiled_circuit = transpile(circuit, simulator)\n",
    "job = simulator.run(compiled_circuit, shots=1000)\n",
    "res = job.result()\n",
    "print(res.get_counts(compiled_circuit))\n",
    "display(circuit.draw(\"mpl\"))\n",
    "plot_histogram(res.get_counts(compiled_circuit))"
   ]
  },
  {
   "cell_type": "markdown",
   "metadata": {},
   "source": [
    "\n",
    "Итак, с одним кубитом можно что-то делать. Можно крутить, вертеть и измерять. Давайте попробуем добавить побольше кубит.  \n",
    "\n",
    "$\\color{green}Операторы\\space AND\\space и\\space OR$ \n",
    "\n",
    "В квантовом мире так делать нельзя, потому что они не совсем обратимые. То есть, получая ноль в операции «и», мы никогда не сможем узнать, какие были начальные значения.  \n",
    "\n",
    "$\\color{green}Оператор\\space CNOT$ \n",
    "\n",
    "Все, к чему мы привыкли, рушится. Но появляется новый герой, это оператор так называемого контролируемого отрицания.  \n",
    "CNOT можно представить в виде таблицы истинности:\n",
    "\n",
    "|Вход|Вход| |Выход|Выход|\n",
    "|:---:|:---:|:---:|:---:|:---:|\n",
    "|0|0|=>|0|0| \n",
    "|0|1|=>|0|1|\n",
    "|1|0|=>|1|1|\n",
    "|1|1|=>|1|0|\n",
    "\n",
    "Обозначается как оператор CX.\n"
   ]
  },
  {
   "cell_type": "code",
   "execution_count": 7,
   "metadata": {},
   "outputs": [
    {
     "name": "stdout",
     "output_type": "stream",
     "text": [
      "{'11': 481, '00': 519}\n"
     ]
    },
    {
     "data": {
      "image/png": "[encoded data removed]",
      "text/plain": [
       "<Figure size 490.776x284.278 with 1 Axes>"
      ]
     },
     "execution_count": 7,
     "metadata": {},
     "output_type": "execute_result"
    }
   ],
   "source": [
    "q = QuantumRegister(2)\n",
    "c = ClassicalRegister(2)\n",
    "circuit = QuantumCircuit(q, c)\n",
    "circuit.h(0)\n",
    "circuit.cx(0, 1)\n",
    "circuit.measure(q, c)\n",
    "compiled_circuit = transpile(circuit, simulator)\n",
    "job = simulator.run(compiled_circuit, shots=1000)\n",
    "result = job.result()\n",
    "print(result.get_counts(compiled_circuit))\n",
    "circuit.draw(\"mpl\")"
   ]
  },
  {
   "attachments": {},
   "cell_type": "markdown",
   "metadata": {},
   "source": [
    "Теперь это состояние называется запутанным.  \n",
    "То есть если я сделаю такое преобразование своими кубитами, один кубит отдам своему другу, он улетит в другой город, а я второй кубит измерю у себя, я буду точно знать, в каком состоянии его кубит. Это называется эффектом квантовой запутанности или квантовой связанности. И это основной механизм, с помощью которого квантовые вычисления работают. Они связаны очень жестко, и во время измерения мы можем получить только |00⟩ или |11⟩."
   ]
  },
  {
   "attachments": {},
   "cell_type": "markdown",
   "metadata": {},
   "source": [
    "$\\color{green}Оператор\\space CCNOT\\space или\\space Вентиль\\space Тоффоли$ \n",
    "\n",
    "Это уже запутывание 3х кубитов  \n",
    "Имеет три входа и три выхода, если два первых входа равны единице, то значение последнего бита обращается. В противном случае все входы подаются на выход неизменными.  \n",
    "CCNOT можно представить в виде таблицы истинности:\n",
    "\n",
    "|Вход|Вход|Вход| |Выход|Выход|Выход|\n",
    "|:---:|:---:|:---:|:---:|:---:|:---:|:---:|\n",
    "|0|0|0|=>|0|0|0| \n",
    "|0|0|1|=>|0|0|1|\n",
    "|0|1|0|=>|0|1|0|\n",
    "|0|1|1|=>|0|1|1|\n",
    "|1|0|0|=>|1|0|0| \n",
    "|1|0|1|=>|1|0|1|\n",
    "|1|1|0|=>|1|1|1|\n",
    "|1|1|1|=>|1|1|0|\n",
    "\n",
    "Обозначается как оператор CCX."
   ]
  },
  {
   "attachments": {},
   "cell_type": "markdown",
   "metadata": {},
   "source": [
    "$\\color{green}Вентиль\\space Фредкина$ \n",
    "\n",
    "Имеет три входа и три выхода. Если первый вход равен 1, то второй и третий вход меняются местами.  \n",
    "Таблица истинности:  \n",
    "\n",
    "|Вход|Вход|Вход| |Выход|Выход|Выход|\n",
    "|:---:|:---:|:---:|:---:|:---:|:---:|:---:|\n",
    "|0|0|0|=>|0|0|0| \n",
    "|0|0|1|=>|0|0|1|\n",
    "|0|1|0|=>|0|1|0|\n",
    "|0|1|1|=>|0|1|1|\n",
    "|1|0|0|=>|1|0|0| \n",
    "|1|0|1|=>|1|1|0|\n",
    "|1|1|0|=>|1|0|1|\n",
    "|1|1|1|=>|1|1|1|  \n",
    "\n",
    "Вентиль Фредкина, наряду с вентилем Тоффоли, являются широко известными универсальными обратимыми трехвходовыми вентилями, с помощью любого из них возможна реализация любой обратимой логической функции.  \n",
    "Обозначается как оператор fredkin\n"
   ]
  },
  {
   "attachments": {},
   "cell_type": "markdown",
   "metadata": {},
   "source": [
    "## <span id=\"teg3\">[Основные квантовые алгоритмы](#sod)</span>\n",
    "\n",
    "1. Разложение на множители десятичного числа к с n=k•ln(10) – числом двоичных знаков. \n",
    "    Лучший классический алгоритм (общий метод решета числового поля) требует экспоненциального числа операций.\n",
    "\n",
    "    exp((64/9)1/3n1/3(ln(n))2/3)\n",
    "\n",
    "    Квантовый алгоритм Шора (1994) требует только n2ln(n)ln(ln(n)) операций.\n",
    "\n",
    "2. Поиск записи в неотсортированной базе данных с N записями\n",
    "    Классически потребуется O(N) шагов, в среднем N/2. Квантовый алгоритм Гровера (1996) находит запись за O(SQRT(N)) шагов\n",
    "\n",
    "3. Решение систем линейных уравнений\n",
    "    Пусть заданы n×n разреженная матрица A с числом обусловленности к и n-мерный вектор b. Тогда для решения системы уравнений Ax=b (x и b - вектора) классическому алгоритму нужно O(n2÷3SQRT(k)) операций, а квантовому HHL алгоритму (A.W.Harrow, A.Hassidim, S.Lloyd, Phys. Rev. Lett. vol. 15, № 103, pp. 150502, 2009) только O(ln(n) k2) операций."
   ]
  },
  {
   "attachments": {},
   "cell_type": "markdown",
   "metadata": {},
   "source": [
    "На персональном компьютере с памятью 32ГБ можно смоделировать квантовый компьютер на 30 кубит."
   ]
  },
  {
   "attachments": {},
   "cell_type": "markdown",
   "metadata": {},
   "source": [
    "## <span id=\"teg3\">[Вывод](#sod)</span>\n",
    "\n",
    "Не все так страшно. Тема очень интересная, и достойна дальнейшего изучения.  \n",
    "Если попробовать вбить \"квантовый программист\" в поисковике, то уже сегодня можете найти вакансии. Конечно, там больше исследований, но тем не менее. \n",
    "\n"
   ]
  },
  {
   "attachments": {},
   "cell_type": "markdown",
   "metadata": {},
   "source": [
    "## <span id=\"teg3\">[Дополнительная работа. Генератор числа [0-$2^3$]](#sod)</span>"
   ]
  },
  {
   "cell_type": "code",
   "execution_count": 8,
   "metadata": {},
   "outputs": [
    {
     "name": "stdout",
     "output_type": "stream",
     "text": [
      "2 3 5 7 1 7 6 7 4 2\n"
     ]
    },
    {
     "data": {
      "image/png": "[encoded data removed]",
      "text/plain": [
       "<Figure size 491.382x367.889 with 1 Axes>"
      ]
     },
     "execution_count": 8,
     "metadata": {},
     "output_type": "execute_result"
    }
   ],
   "source": [
    "sim = AerSimulator()\n",
    "qq = QuantumRegister(3)\n",
    "cc = ClassicalRegister(3)\n",
    "circ = QuantumCircuit(qq, cc)\n",
    "for i in range(3):\n",
    "    circ.h(i)\n",
    "circ.measure(qq, cc)\n",
    "comp_circ = transpile(circ, sim)\n",
    "# Сгенерируем 10 чисел\n",
    "list_out = []\n",
    "for i in range(10):\n",
    "    bit_string = list(simulator.run(comp_circ, shots=1).result().get_counts().keys())[0]\n",
    "    list_out.append(int(bit_string, 2))\n",
    "print(*list_out)\n",
    "circ.draw(\"mpl\")"
   ]
  }
 ],
 "metadata": {
  "kernelspec": {
   "display_name": "venv",
   "language": "python",
   "name": "python3"
  },
  "language_info": {
   "codemirror_mode": {
    "name": "ipython",
    "version": 3
   },
   "file_extension": ".py",
   "mimetype": "text/x-python",
   "name": "python",
   "nbconvert_exporter": "python",
   "pygments_lexer": "ipython3",
   "version": "3.11.1"
  },
  "orig_nbformat": 4
 },
 "nbformat": 4,
 "nbformat_minor": 2
}
